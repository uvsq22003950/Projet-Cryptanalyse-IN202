{
 "metadata": {
  "language_info": {
   "codemirror_mode": {
    "name": "ipython",
    "version": 3
   },
   "file_extension": ".py",
   "mimetype": "text/x-python",
   "name": "python",
   "nbconvert_exporter": "python",
   "pygments_lexer": "ipython3",
   "version": "3.8.3"
  },
  "orig_nbformat": 2,
  "kernelspec": {
   "name": "python3",
   "display_name": "Python 3.8.3 64-bit",
   "metadata": {
    "interpreter": {
     "hash": "6b9b69e4461d892546ddff7cd5b0269820aa65229b073503f347b591ba1eaf1c"
    }
   }
  }
 },
 "nbformat": 4,
 "nbformat_minor": 2,
 "cells": [
  {
   "cell_type": "code",
   "execution_count": 1,
   "metadata": {},
   "outputs": [
    {
     "output_type": "stream",
     "name": "stdout",
     "text": [
      "braeo a l'arde me l'indrce eous avei redssi a cjssea ce codn et a frnir ce mevorr. ue dnrninr tnxte est poua leb brjves, repardnz vxus mans un virorr, nn eces eous un ? [-2, -11, -4, -16]\n",
      "bravo a l'aide de l'indice vous avez reussi a casser ce code et a finir ce devoir. le dernier texte est pour les braves, regardez vous dans un miroir, en etes vous un ? [-2, -11, -4, -25]\n",
      "brmvo m l'mide de x'inpice voue avqz rqussu a oassqr cq cope ef a rinid ce devair. le pernuer fextq esf pogr lqs bdavee, rqgarpez hous dane un mirair, en qtes voue un ? [-2, -11, -18, -25]\n",
      "bkavo a l'aidx de l'igdicx vons aoez keusli a casler ve chde xt a finbr cx deooir. le dergier texme elt phur ees uravxs, kegakdez voul dags ug mikoir, en etel vons ug ? [-2, -18, -4, -25]\n",
      "biaeo a l'ardv me l'iedrcv eols amei iedsji a cjsjea te cfdn vt a frnzr cv memorr. ue dnreinr tnxke ejt pfua ceb srjvvs, iepaidnz vxuj maes ue viiorr, nn ecej eols ue ? [-2, -20, -4, -16]\n",
      "biavo a l'aidv de l'iedicv vols amez ieusji a casjer te cfde vt a finzr cv demoir. le dereier texke ejt pfur ces sravvs, iegaidez vouj daes ue miioir, en etej vols ue ? [-2, -20, -4, -25]\n",
      "bimvo m l'midv de x'iepicv vole amqz iqusju a oasjqr tq cfpe vf a rinzd cv demair. le pereuer fexkq ejf pfgr cqs sdavve, iqgaipez houj daee ue miiair, en qtej vole ue ? [-2, -20, -18, -25]\n",
      "bdaeo a l'ardq me l'izdrcq eogs ahei dedsei a cjseea oe cadn qt a frnur cq mehorr. ue dnrzinr tnxfe eet paua xeb nrjvqs, depaddnz vxue mazs uz vidorr, nn ecee eogs uz ? [-2, -25, -4, -16]\n",
      "bdavo a l'aidq de l'izdicq vogs ahez deusei a caseer oe cade qt a finur cq dehoir. le derzier texfe eet paur xes nravqs, degaddez voue dazs uz midoir, en etee vogs uz ? [-2, -25, -4, -25]\n",
      "bdmvo m l'midq de x'izpicq voge ahqz dquseu a oaseqr oq cape qf a rinud cq dehair. le perzuer fexfq eef pagr xqs ndavqe, dqgadpez houe daze uz midair, en qtee voge uz ? [-2, -25, -18, -25]\n"
     ]
    },
    {
     "output_type": "error",
     "ename": "KeyboardInterrupt",
     "evalue": "",
     "traceback": [
      "\u001b[1;31m---------------------------------------------------------------------------\u001b[0m",
      "\u001b[1;31mKeyboardInterrupt\u001b[0m                         Traceback (most recent call last)",
      "\u001b[1;32m<ipython-input-1-ea87dddea8fb>\u001b[0m in \u001b[0;36m<module>\u001b[1;34m\u001b[0m\n\u001b[0;32m     71\u001b[0m             \u001b[0mprint\u001b[0m\u001b[1;33m(\u001b[0m\u001b[0mtest\u001b[0m\u001b[1;33m,\u001b[0m\u001b[0mcleattack\u001b[0m\u001b[1;33m[\u001b[0m\u001b[0mi\u001b[0m\u001b[1;33m]\u001b[0m\u001b[1;33m)\u001b[0m\u001b[1;33m\u001b[0m\u001b[1;33m\u001b[0m\u001b[0m\n\u001b[0;32m     72\u001b[0m \u001b[1;33m\u001b[0m\u001b[0m\n\u001b[1;32m---> 73\u001b[1;33m \u001b[0mattackvig\u001b[0m\u001b[1;33m(\u001b[0m\u001b[1;34m\"dceuq e n'ehfp cg p'kyhhep uqfw cgiy citudm c gzudiq ni ezhd px c jhptv ep cggsht. kg hdtymdt xdzei gdx rzyq wir mvzxpw, cifcchdb znwd ccyw wy lkcsht, dp isgd uqfw wy ?\"\u001b[0m\u001b[1;33m)\u001b[0m\u001b[1;33m\u001b[0m\u001b[1;33m\u001b[0m\u001b[0m\n\u001b[0m\u001b[0;32m     74\u001b[0m \u001b[1;33m\u001b[0m\u001b[0m\n\u001b[0;32m     75\u001b[0m \u001b[1;31m#bravo a l'aide de l'indice vous avez reussi a casser ce code et a finir ce devoir. le dernier texte est pour les braves, regardez vous dans un miroir, en etes vous un ? [-2, -11, -4, -25] (donc la clé = clez)\u001b[0m\u001b[1;33m\u001b[0m\u001b[1;33m\u001b[0m\u001b[1;33m\u001b[0m\u001b[0m\n",
      "\u001b[1;32m<ipython-input-1-ea87dddea8fb>\u001b[0m in \u001b[0;36mattackvig\u001b[1;34m(phrase)\u001b[0m\n\u001b[0;32m     65\u001b[0m \u001b[1;33m\u001b[0m\u001b[0m\n\u001b[0;32m     66\u001b[0m     \u001b[1;32mfor\u001b[0m \u001b[0mi\u001b[0m \u001b[1;32min\u001b[0m \u001b[0mrange\u001b[0m\u001b[1;33m(\u001b[0m\u001b[0mlen\u001b[0m\u001b[1;33m(\u001b[0m\u001b[0mcleattack\u001b[0m\u001b[1;33m)\u001b[0m\u001b[1;33m)\u001b[0m\u001b[1;33m:\u001b[0m\u001b[1;33m\u001b[0m\u001b[1;33m\u001b[0m\u001b[0m\n\u001b[1;32m---> 67\u001b[1;33m         \u001b[0mtest\u001b[0m\u001b[1;33m=\u001b[0m\u001b[0mchiff_vig\u001b[0m\u001b[1;33m(\u001b[0m\u001b[0mphrase\u001b[0m\u001b[1;33m,\u001b[0m\u001b[0mcleattack\u001b[0m\u001b[1;33m[\u001b[0m\u001b[0mi\u001b[0m\u001b[1;33m]\u001b[0m\u001b[1;33m)\u001b[0m\u001b[1;33m\u001b[0m\u001b[1;33m\u001b[0m\u001b[0m\n\u001b[0m\u001b[0;32m     68\u001b[0m         \u001b[0mF\u001b[0m\u001b[1;33m=\u001b[0m \u001b[0mfreq\u001b[0m\u001b[1;33m(\u001b[0m\u001b[0mtest\u001b[0m\u001b[1;33m)\u001b[0m\u001b[1;33m\u001b[0m\u001b[1;33m\u001b[0m\u001b[0m\n\u001b[0;32m     69\u001b[0m         \u001b[1;32mif\u001b[0m \u001b[1;34m'w'\u001b[0m \u001b[1;32mnot\u001b[0m \u001b[1;32min\u001b[0m \u001b[0mtest\u001b[0m \u001b[1;32mand\u001b[0m \u001b[1;34m'y'\u001b[0m \u001b[1;32mnot\u001b[0m \u001b[1;32min\u001b[0m \u001b[0mtest\u001b[0m \u001b[1;32mand\u001b[0m \u001b[0mF\u001b[0m\u001b[1;33m[\u001b[0m\u001b[1;36m4\u001b[0m\u001b[1;33m]\u001b[0m\u001b[1;33m>\u001b[0m\u001b[1;36m0.15\u001b[0m \u001b[1;33m:\u001b[0m\u001b[1;33m\u001b[0m\u001b[1;33m\u001b[0m\u001b[0m\n",
      "\u001b[1;32m<ipython-input-1-ea87dddea8fb>\u001b[0m in \u001b[0;36mchiff_vig\u001b[1;34m(phrase, cle)\u001b[0m\n\u001b[0;32m     42\u001b[0m \u001b[1;33m\u001b[0m\u001b[0m\n\u001b[0;32m     43\u001b[0m     \u001b[1;32mfor\u001b[0m \u001b[0mi\u001b[0m \u001b[1;32min\u001b[0m \u001b[0mrange\u001b[0m\u001b[1;33m(\u001b[0m\u001b[0mn\u001b[0m\u001b[1;33m)\u001b[0m\u001b[1;33m:\u001b[0m\u001b[1;33m\u001b[0m\u001b[1;33m\u001b[0m\u001b[0m\n\u001b[1;32m---> 44\u001b[1;33m         \u001b[0mtotalcle\u001b[0m\u001b[1;33m.\u001b[0m\u001b[0mappend\u001b[0m\u001b[1;33m(\u001b[0m\u001b[0mcle\u001b[0m\u001b[1;33m[\u001b[0m\u001b[0mi\u001b[0m\u001b[1;33m%\u001b[0m\u001b[0mncle\u001b[0m\u001b[1;33m]\u001b[0m\u001b[1;33m)\u001b[0m\u001b[1;33m\u001b[0m\u001b[1;33m\u001b[0m\u001b[0m\n\u001b[0m\u001b[0;32m     45\u001b[0m \u001b[1;33m\u001b[0m\u001b[0m\n\u001b[0;32m     46\u001b[0m \u001b[1;33m\u001b[0m\u001b[0m\n",
      "\u001b[1;31mKeyboardInterrupt\u001b[0m: "
     ]
    }
   ],
   "source": [
    "#Texte 3\n",
    "abc=['a','b','c','d','e','f','g','h','i','j','k','l','m','n','o','p','q','r','s','t','u','v','w','x','y','z']\n",
    "def stats(phrase):\n",
    "    stat=[0,0,0,0,0,0,0,0,0,0,0,0,0,0,0,0,0,0,0,0,0,0,0,0,0,0]\n",
    "    for c in phrase:\n",
    "        i=abc.index(c)\n",
    "        stat[i]+=1\n",
    "    return stat\n",
    "\n",
    "\n",
    "\n",
    "def chiffre_car_cesar(car,k):\n",
    "       return abc[(abc.index(car)+k)%26]\n",
    "\n",
    "def freq(phrase):\n",
    "    F=[]\n",
    "    phrase2=''\n",
    "\n",
    "    for c in phrase:\n",
    "        if c in abc:\n",
    "            phrase2+=c\n",
    "\n",
    "    stat= stats(phrase2)\n",
    "    n=len(phrase2)\n",
    "\n",
    "    for i in stat:\n",
    "        F.append(i/len(phrase2))\n",
    "    \n",
    "    return F\n",
    "\n",
    "\n",
    "\n",
    "def chiff_vig(phrase,cle):\n",
    "    ncle=len(cle)\n",
    "    totalcle=[]\n",
    "    res=\"\" \n",
    "    \n",
    "\n",
    "    n=len(phrase) \n",
    "\n",
    " \n",
    "    \n",
    "    for i in range(n):\n",
    "        totalcle.append(cle[i%ncle])\n",
    "\n",
    "\n",
    "    for i in range(n):\n",
    "        if phrase[i] in abc:\n",
    "            res+= chiffre_car_cesar(phrase[i],totalcle[i])\n",
    "        else:\n",
    "            res+= phrase[i]\n",
    "    return res\n",
    "\n",
    "\n",
    "\n",
    "\n",
    "\n",
    "\n",
    "def attackvig(phrase):\n",
    "\n",
    "    cleattack=[[-a,-b] for a in range(26) for b in range(26)] #Clef de 2 lettres\n",
    "    cleattack1=[[-a,-b,-c] for a in range(26) for b in range(26) for c in range(26)] #Clef de 3 lettres \n",
    "    cleattack2=[[-a,-b,-c,-d] for a in range(26) for b in range(26) for c in range(26) for d in range(26)] #Clef de 4 lettres\n",
    "    cleattack=cleattack+cleattack1+cleattack2\n",
    "    \n",
    "    for i in range(len(cleattack)):\n",
    "        test=chiff_vig(phrase,cleattack[i])\n",
    "        F= freq(test)\n",
    "        if 'w' not in test and 'y' not in test and F[4]>0.15 :\n",
    "            \n",
    "            print(test,cleattack[i])\n",
    "\n",
    "attackvig(\"dceuq e n'ehfp cg p'kyhhep uqfw cgiy citudm c gzudiq ni ezhd px c jhptv ep cggsht. kg hdtymdt xdzei gdx rzyq wir mvzxpw, cifcchdb znwd ccyw wy lkcsht, dp isgd uqfw wy ?\")\n",
    "\n",
    "#bravo a l'aide de l'indice vous avez reussi a casser ce code et a finir ce devoir. le dernier texte est pour les braves, regardez vous dans un miroir, en etes vous un ? [-2, -11, -4, -25] (donc la clé = clez)\n",
    "\n",
    "#Le texte 4 j'aurai peut être pu le trouver mais à la main avec de la logique donc tant pis (j'avais le "bra" pour la clé mais pas la taille/la suite)"
   ]
  },
  {
   "cell_type": "code",
   "execution_count": null,
   "metadata": {},
   "outputs": [],
   "source": []
  }
 ]
}
