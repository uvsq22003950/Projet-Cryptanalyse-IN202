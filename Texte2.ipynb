{
 "metadata": {
  "language_info": {
   "codemirror_mode": {
    "name": "ipython",
    "version": 3
   },
   "file_extension": ".py",
   "mimetype": "text/x-python",
   "name": "python",
   "nbconvert_exporter": "python",
   "pygments_lexer": "ipython3",
   "version": "3.8.3"
  },
  "orig_nbformat": 2,
  "kernelspec": {
   "name": "python3",
   "display_name": "Python 3.8.3 64-bit",
   "metadata": {
    "interpreter": {
     "hash": "6b9b69e4461d892546ddff7cd5b0269820aa65229b073503f347b591ba1eaf1c"
    }
   }
  }
 },
 "nbformat": 4,
 "nbformat_minor": 2,
 "cells": [
  {
   "cell_type": "code",
   "execution_count": 2,
   "metadata": {},
   "outputs": [
    {
     "output_type": "stream",
     "name": "stdout",
     "text": [
      "[0.0, 0.0, 0.0, 0.0, 0.0, 0.0, 0.0, 0.0, 0.005555555555555556, 0.011111111111111112, 0.016666666666666666, 0.016666666666666666, 0.027777777777777776, 0.027777777777777776, 0.03333333333333333, 0.044444444444444446, 0.05555555555555555, 0.05555555555555555, 0.05555555555555555, 0.06111111111111111, 0.06111111111111111, 0.06111111111111111, 0.07777777777777778, 0.09444444444444444, 0.09444444444444444, 0.2]\nle prochain fichier est code par un mot de passe de taille inconnue et contient l'indice. les lettres du mot de passe permettent de decaler les lettres du message original modulo 26. seules les lettres de a a y sont chiffrees.\n"
     ]
    }
   ],
   "source": [
    "#Texte 2\n",
    "abc=['a','b','c','d','e','f','g','h','i','j','k','l','m','n','o','p','q','r','s','t','u','v','w','x','y','z']\n",
    "\n",
    "def stats(phrase):\n",
    "    '''\n",
    "    ::str --> list\n",
    "    '''\n",
    "    stat=[0,0,0,0,0,0,0,0,0,0,0,0,0,0,0,0,0,0,0,0,0,0,0,0,0,0]\n",
    "    for c in phrase:\n",
    "        i=abc.index(c)\n",
    "        stat[i]+=1\n",
    "    return stat\n",
    "\n",
    "def freq(phrase):\n",
    "    '''\n",
    "    ::str --> list\n",
    "    '''\n",
    "    F=[]\n",
    "    phrase2=''\n",
    "\n",
    "    for c in phrase:\n",
    "        if c in abc:\n",
    "            phrase2+=c\n",
    "\n",
    "    stat= stats(phrase2)\n",
    "\n",
    "    for i in stat:\n",
    "        F.append(i/len(phrase2))\n",
    "    \n",
    "    return F\n",
    "\n",
    "F=freq(\"gx qosvlnkd wkvlkxo xiu vscx qno yd fsu cx qniix cx unkggx kdvsddyx xu vsdukxdu g'kdckvx. gxi gxuuoxi cy fsu cx qniix qxofxuuxdu cx cxvngxo gxi gxuuoxi cy fxiinmx sokmkdng fscygs 26. ixygxi gxi gxuuoxi cx n n a isdu vlkwwoxxi.\")\n",
    "print(sorted(F))\n",
    "\n",
    "abc0=['a','b','c','d','e','f','g','h','i','j','k','l','m','n','o','p','q','r','s','t','u','v','w','x','y','z',' ']\n",
    "abc1=['y',' ','d','n',' ','m','l',' ','s',' ','i','h','g','a','r',' ','p',' ','o',' ','t','c','f','e','u',' ',' ']\n",
    " \n",
    "A=\"gx qosvlnkd wkvlkxo xiu vscx qno yd fsu cx qniix cx unkggx kdvsddyx xu vsdukxdu g'kdckvx. gxi gxuuoxi cy fsu cx qniix qxofxuuxdu cx cxvngxo gxi gxuuoxi cy fxiinmx sokmkdng fscygs 26. ixygxi gxi gxuuoxi cx n n a isdu vlkwwoxxi.\"\n",
    "B=\"le prochain fichier est code par un mot de passe de taille inconnue et contient l'indice. les lettres du mot de passe permettent de decaler les lettres du message original modulo 26. seules les lettres de 'a' a 'z' sont chiffrees.\"\n",
    "\n",
    "res=''\n",
    "for c in A:\n",
    "    if c not in abc0:\n",
    "        res+=c\n",
    "    else:\n",
    "        res+= abc1[abc0.index(c)]\n",
    "print(res)\n",
    "\n",
    "#le prochain fichier est code par un mot de passe de taille inconnue et contient l'indice. les lettres du mot de passe permettent de decaler les lettres du message original modulo 26. seules les lettres de a a y sont chiffrees."
   ]
  },
  {
   "cell_type": "code",
   "execution_count": null,
   "metadata": {},
   "outputs": [],
   "source": []
  }
 ]
}