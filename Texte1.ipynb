{
 "metadata": {
  "language_info": {
   "codemirror_mode": {
    "name": "ipython",
    "version": 3
   },
   "file_extension": ".py",
   "mimetype": "text/x-python",
   "name": "python",
   "nbconvert_exporter": "python",
   "pygments_lexer": "ipython3",
   "version": "3.8.3"
  },
  "orig_nbformat": 2,
  "kernelspec": {
   "name": "python3",
   "display_name": "Python 3.8.3 64-bit",
   "metadata": {
    "interpreter": {
     "hash": "6b9b69e4461d892546ddff7cd5b0269820aa65229b073503f347b591ba1eaf1c"
    }
   }
  }
 },
 "nbformat": 4,
 "nbformat_minor": 2,
 "cells": [
  {
   "cell_type": "code",
   "execution_count": 1,
   "metadata": {},
   "outputs": [
    {
     "output_type": "stream",
     "name": "stdout",
     "text": [
      "le prochain fichier aura un code par substitution alphabetique: chaque lettre est remplacee par une autre. utiliser la frequence des lettres pour decoder le message.\nmf qspdibjo gjdijfs bvsb vo dpef qbs tvctujuvujpo bmqibcfujrvf: dibrvf mfuusf ftu sfnqmbdff qbs vof bvusf. vujmjtfs mb gsfrvfodf eft mfuusft qpvs efdpefs mf nfttbhf.\nng rtqejckp hkejkgt cwtc wp eqfg rct uwduvkvwvkqp cnrjcdgvkswg: ejcswg ngvvtg guv tgorncegg rct wpg cwvtg. wvknkugt nc htgswgpeg fgu ngvvtgu rqwt fgeqfgt ng oguucig.\noh surfkdlq ilfklhu dxud xq frgh sdu vxevwlwxwlrq doskdehwltxh: fkdtxh ohwwuh hvw uhpsodfhh sdu xqh dxwuh. xwlolvhu od iuhtxhqfh ghv ohwwuhv srxu ghfrghu oh phvvdjh.\npi tvsglemr jmglmiv eyve yr gshi tev wyfwxmxyxmsr eptlefixmuyi: gleuyi pixxvi iwx viqtpegii tev yri eyxvi. yxmpmwiv pe jviuyirgi hiw pixxviw tsyv higshiv pi qiwweki.\nqj uwthmfns knhmnjw fzwf zs htij ufw xzgxynyzynts fqumfgjynvzj: hmfvzj qjyywj jxy wjruqfhjj ufw zsj fzywj. zynqnxjw qf kwjvzjshj ijx qjyywjx utzw ijhtijw qj rjxxflj.\nrk vxuingot loinokx gaxg at iujk vgx yahyzozazout grvnghkzowak: ingwak rkzzxk kyz xksvrgikk vgx atk gazxk. azoroykx rg lxkwaktik jky rkzzxky vuax jkiujkx rk skyygmk.\nsl wyvjohpu mpjoply hbyh bu jvkl why zbizapabapvu hswohilapxbl: johxbl slaayl lza yltwshjll why bul hbayl. bapspzly sh mylxblujl klz slaaylz wvby kljvkly sl tlzzhnl.\ntm xzwkpiqv nqkpqmz iczi cv kwlm xiz acjabqbcbqwv itxpijmbqycm: kpiycm tmbbzm mab zmuxtikmm xiz cvm icbzm. cbqtqamz ti nzmycmvkm lma tmbbzma xwcz lmkwlmz tm umaaiom.\nun yaxlqjrw orlqrna jdaj dw lxmn yja bdkbcrcdcrxw juyqjkncrzdn: lqjzdn unccan nbc anvyujlnn yja dwn jdcan. dcrurbna uj oanzdnwln mnb unccanb yxda mnlxmna un vnbbjpn.\nvo zbymrksx psmrsob kebk ex myno zkb celcdsdedsyx kvzrklodsaeo: mrkaeo voddbo ocd bowzvkmoo zkb exo kedbo. edsvscob vk pboaeoxmo noc voddboc zyeb nomynob vo wocckqo.\nwp acznslty qtnstpc lfcl fy nzop alc dfmdetefetzy lwaslmpetbfp: nslbfp wpeecp pde cpxawlnpp alc fyp lfecp. fetwtdpc wl qcpbfpynp opd wpeecpd azfc opnzopc wp xpddlrp.\nxq bdaotmuz ruotuqd mgdm gz oapq bmd egnefufgfuaz mxbtmnqfucgq: otmcgq xqffdq qef dqybxmoqq bmd gzq mgfdq. gfuxueqd xm rdqcgqzoq pqe xqffdqe bagd pqoapqd xq yqeemsq.\nyr cebpunva svpuvre nhen ha pbqr cne fhofgvghgvba nycunorgvdhr: pundhr yrgger rfg erzcynprr cne har nhger. hgvyvfre yn serdhrapr qrf yrggerf cbhe qrpbqre yr zrffntr.\nzs dfcqvowb twqvwsf oifo ib qcrs dof gipghwhihwcb ozdvopshweis: qvoeis zshhfs sgh fsadzoqss dof ibs oihfs. ihwzwgsf zo tfseisbqs rsg zshhfsg dcif rsqcrsf zs asggous.\nat egdrwpxc uxrwxtg pjgp jc rdst epg hjqhixijixdc paewpqtixfjt: rwpfjt atiigt thi gtbeaprtt epg jct pjigt. jixaxhtg ap ugtfjtcrt sth atiigth edjg strdstg at bthhpvt.\nbu fhesxqyd vysxyuh qkhq kd setu fqh ikrijyjkjyed qbfxqrujygku: sxqgku bujjhu uij hucfbqsuu fqh kdu qkjhu. kjybyiuh bq vhugkudsu tui bujjhui fekh tusetuh bu cuiiqwu.\ncv giftyrze wztyzvi rlir le tfuv gri jlsjkzklkzfe rcgyrsvkzhlv: tyrhlv cvkkiv vjk ivdgcrtvv gri lev rlkiv. lkzczjvi cr wivhlvetv uvj cvkkivj gfli uvtfuvi cv dvjjrxv.\ndw hjguzsaf xauzawj smjs mf ugvw hsj kmtklalmlagf sdhzstwlaimw: uzsimw dwlljw wkl jwehdsuww hsj mfw smljw. mladakwj ds xjwimwfuw vwk dwlljwk hgmj vwugvwj dw ewkksyw.\nex ikhvatbg ybvabxk tnkt ng vhwx itk lnulmbmnmbhg teiatuxmbjnx: vatjnx exmmkx xlm kxfietvxx itk ngx tnmkx. nmbeblxk et ykxjnxgvx wxl exmmkxl ihnk wxvhwxk ex fxlltzx.\nfy jliwbuch zcwbcyl uolu oh wixy jul movmncnoncih ufjbuvynckoy: wbukoy fynnly ymn lygjfuwyy jul ohy uonly. oncfcmyl fu zlykoyhwy xym fynnlym jiol xywixyl fy gymmuay.\ngz kmjxcvdi adxcdzm vpmv pi xjyz kvm npwnodopodji vgkcvwzodlpz: xcvlpz gzoomz zno mzhkgvxzz kvm piz vpomz. podgdnzm gv amzlpzixz yzn gzoomzn kjpm yzxjyzm gz hznnvbz.\nha lnkydwej beydean wqnw qj ykza lwn oqxopepqpekj whldwxapemqa: ydwmqa happna aop nailhwyaa lwn qja wqpna. qpeheoan hw bnamqajya zao happnao lkqn zaykzan ha iaoowca.\nib molzexfk cfzefbo xrox rk zlab mxo prypqfqrqflk ximexybqfnrb: zexnrb ibqqob bpq objmixzbb mxo rkb xrqob. rqfifpbo ix cobnrbkzb abp ibqqobp mlro abzlabo ib jbppxdb.\njc npmafygl dgafgcp yspy sl ambc nyp qszqrgrsrgml yjnfyzcrgosc: afyosc jcrrpc cqr pcknjyacc nyp slc ysrpc. srgjgqcp jy dpcosclac bcq jcrrpcq nmsp bcambcp jc kcqqyec.\nkd oqnbgzhm ehbghdq ztqz tm bncd ozq rtarshstshnm zkogzadshptd: bgzptd kdssqd drs qdlokzbdd ozq tmd ztsqd. tshkhrdq kz eqdptdmbd cdr kdssqdr ontq cdbncdq kd ldrrzfd.\n"
     ]
    }
   ],
   "source": [
    "#Texte1\n",
    "abc=['a','b','c','d','e','f','g','h','i','j','k','l','m','n','o','p','q','r','s','t','u','v','w','x','y','z']\n",
    "\n",
    "def attackcesar(phrase):\n",
    "    for i in range(1,27):\n",
    "        res=''\n",
    "        for c in phrase:\n",
    "            if c not in abc:\n",
    "                res+=c\n",
    "            else:\n",
    "                c=abc[(abc.index(c)+i)%26]\n",
    "                res+=c\n",
    "        print(res)\n",
    "attackcesar('kd oqnbgzhm ehbghdq ztqz tm bncd ozq rtarshstshnm zkogzadshptd: bgzptd kdssqd drs qdlokzbdd ozq tmd ztsqd. tshkhrdq kz eqdptdmbd cdr kdssqdr ontq cdbncdq kd ldrrzfd.')\n",
    "\n",
    "#le prochain fichier aura un code par substitution alphabetique: chaque lettre est remplacee par une autre. utiliser la frequence des lettres pour decoder le message."
   ]
  },
  {
   "cell_type": "code",
   "execution_count": null,
   "metadata": {},
   "outputs": [],
   "source": []
  }
 ]
}